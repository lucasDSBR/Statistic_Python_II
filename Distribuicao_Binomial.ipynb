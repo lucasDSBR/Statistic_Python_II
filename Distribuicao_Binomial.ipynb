{
 "cells": [
  {
   "cell_type": "code",
   "execution_count": 2,
   "id": "c2d3aa88",
   "metadata": {},
   "outputs": [],
   "source": [
    "# Importando função \n",
    "from scipy.stats import binom\n"
   ]
  },
  {
   "cell_type": "code",
   "execution_count": 3,
   "id": "11a37e42",
   "metadata": {},
   "outputs": [
    {
     "data": {
      "text/plain": [
       "0.31249999999999983"
      ]
     },
     "execution_count": 3,
     "metadata": {},
     "output_type": "execute_result"
    }
   ],
   "source": [
    "# Jogar uma moeda 5 vezes, qual a probabilidade de dar cara 3 vezes ?\n",
    "# Eventos, experimentos, probabilidades\n",
    "prop = binom.pmf(3, 5, 0.5)\n",
    "prop"
   ]
  },
  {
   "cell_type": "code",
   "execution_count": 4,
   "id": "4e5388d9",
   "metadata": {},
   "outputs": [
    {
     "data": {
      "text/plain": [
       "1.0000000000000002"
      ]
     },
     "execution_count": 4,
     "metadata": {},
     "output_type": "execute_result"
    }
   ],
   "source": [
    "# Passar por 4 sinais de 4 tempos, qual a probabilidade de pegar sinal verde \n",
    "# nenhum, 1, 2, 3 ou 4 vezes seguidas ?\n",
    "binom.pmf(0, 4, 0.25) + binom.pmf(1, 4, 0.25) + binom.pmf(2, 4, 0.25) + binom.pmf(3, 4, 0.25) + binom.pmf(4, 4, 0.25)"
   ]
  },
  {
   "cell_type": "code",
   "execution_count": 6,
   "id": "0381ffb0",
   "metadata": {},
   "outputs": [
    {
     "data": {
      "text/plain": [
       "0.00390625"
      ]
     },
     "execution_count": 6,
     "metadata": {},
     "output_type": "execute_result"
    }
   ],
   "source": [
    "# E se forem sinais de dois tempos?\n",
    "binom.pmf(4, 4, 0.25)"
   ]
  },
  {
   "cell_type": "code",
   "execution_count": 7,
   "id": "e4c30751",
   "metadata": {},
   "outputs": [
    {
     "data": {
      "text/plain": [
       "1.0"
      ]
     },
     "execution_count": 7,
     "metadata": {},
     "output_type": "execute_result"
    }
   ],
   "source": [
    "# Probabilidade acumulada\n",
    "binom.cdf(4, 4, 0.25)"
   ]
  },
  {
   "cell_type": "code",
   "execution_count": 8,
   "id": "68ee4e4b",
   "metadata": {},
   "outputs": [
    {
     "data": {
      "text/plain": [
       "1.1471271514892587"
      ]
     },
     "execution_count": 8,
     "metadata": {},
     "output_type": "execute_result"
    }
   ],
   "source": [
    "# Concurso com 12 questões, qual a progbabilidade de acertar 7 questões considerando\n",
    "# que cada questão tem 4 alternativas ?\n",
    "binom.pmf(7, 12, 0.25) * 100"
   ]
  },
  {
   "cell_type": "code",
   "execution_count": 9,
   "id": "8624508f",
   "metadata": {},
   "outputs": [
    {
     "data": {
      "text/plain": [
       "5.9604644775390625e-06"
      ]
     },
     "execution_count": 9,
     "metadata": {},
     "output_type": "execute_result"
    }
   ],
   "source": [
    "# Probabilidade de acerter as 12 questões\n",
    "binom.pmf(12, 12, 0.25) * 100"
   ]
  }
 ],
 "metadata": {
  "kernelspec": {
   "display_name": "Python 3 (ipykernel)",
   "language": "python",
   "name": "python3"
  },
  "language_info": {
   "codemirror_mode": {
    "name": "ipython",
    "version": 3
   },
   "file_extension": ".py",
   "mimetype": "text/x-python",
   "name": "python",
   "nbconvert_exporter": "python",
   "pygments_lexer": "ipython3",
   "version": "3.10.2"
  }
 },
 "nbformat": 4,
 "nbformat_minor": 5
}
